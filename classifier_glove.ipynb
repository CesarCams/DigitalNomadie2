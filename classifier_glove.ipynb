{
 "cells": [
  {
   "cell_type": "markdown",
   "metadata": {},
   "source": [
    "### Just getting started ###"
   ]
  },
  {
   "cell_type": "code",
   "execution_count": 1,
   "metadata": {},
   "outputs": [
    {
     "name": "stdout",
     "output_type": "stream",
     "text": [
      "Number of words in vocab.txt: 101298\n"
     ]
    }
   ],
   "source": [
    "import numpy as np\n",
    "\n",
    "# 1. Load the vocabulary (list of words)\n",
    "with open(\"vocab_cut.txt\", \"r\") as f:\n",
    "    words = [line.strip() for line in f]\n",
    "\n",
    "# Check the number of words in vocab.txt\n",
    "print(f\"Number of words in vocab.txt: {len(words)}\")\n",
    "\n",
    "# 2. Load the embedding matrix\n",
    "embedding_matrix = np.load(\"embeddings.npy\")\n",
    "\n",
    "# Check the shape of the embedding matrix\n",
    "#print(f\"Embedding matrix shape: {embedding_matrix.shape}\")  # Should be (101298, 20)\n",
    "\n",
    "# 3. Create the word-to-embedding dictionary\n",
    "glove_embeddings = {words[i]: embedding_matrix[i] for i in range(len(words))}"
   ]
  },
  {
   "cell_type": "code",
   "execution_count": 2,
   "metadata": {},
   "outputs": [
    {
     "name": "stdout",
     "output_type": "stream",
     "text": [
      "                                               tweet  label\n",
      "0  have you even dream that i'm not yours anymore...     -1\n",
      "1  so sad , uno's leaving tomorrow , vacation's over     -1\n",
      "2  <user> hey dw about it thanks anyways ! owe ya...      1\n",
      "3  <user> ooo that's a shocker nd goood basketyba...      1\n",
      "4  <user> you should considerrr deleting your twi...      1\n",
      "                                               tweet  label\n",
      "0  1,sea doo pro sea scooter ( sports with the po...     -1\n",
      "1  2,<user> shucks well i work all week so now i ...     -1\n",
      "2          3,i cant stay away from bug thats my baby     -1\n",
      "3  4,<user> no ma'am ! ! ! lol im perfectly fine ...     -1\n",
      "4  5,whenever i fall asleep watching the tv , i a...     -1\n"
     ]
    }
   ],
   "source": [
    "import pandas as pd\n",
    "\n",
    "# Define file paths\n",
    "data_path = \"data/twitter-datasets/\"\n",
    "train_neg_path = f\"{data_path}train_neg_full.txt\"\n",
    "train_pos_path = f\"{data_path}train_pos_full.txt\"\n",
    "test_path = f\"{data_path}test_data.txt\"\n",
    "\n",
    "# Load negative tweets and assign a label of -1\n",
    "with open(train_neg_path, \"r\") as f:\n",
    "    neg_tweets = [(line.strip(), -1) for line in f]\n",
    "\n",
    "# Load positive tweets and assign a label of +1\n",
    "with open(train_pos_path, \"r\") as f:\n",
    "    pos_tweets = [(line.strip(), 1) for line in f]\n",
    "\n",
    "with open(test_path, \"r\") as f:\n",
    "    test_tweets = [(line.strip(), -1) for line in f]\n",
    "\n",
    "# Combine the positive and negative tweets into a single list\n",
    "tweets_with_labels = neg_tweets + pos_tweets\n",
    "\n",
    "# Optional: Shuffle the dataset (important for training)\n",
    "import random\n",
    "random.shuffle(tweets_with_labels)\n",
    "\n",
    "# Convert to a DataFrame for easy manipulation and viewing\n",
    "df = pd.DataFrame(tweets_with_labels, columns=[\"tweet\", \"label\"])\n",
    "df_test = pd.DataFrame(test_tweets, columns=[\"tweet\", \"label\"])\n",
    "# Display the first few rows of the DataFrame\n",
    "print(df.head())\n",
    "print(df_test.head())\n"
   ]
  },
  {
   "cell_type": "code",
   "execution_count": 3,
   "metadata": {},
   "outputs": [],
   "source": [
    "def get_average_embedding(tweet, glove_embeddings, embedding_dim=20):\n",
    "    words = tweet.split()  # Tokenize the tweet by splitting on whitespace\n",
    "    word_vectors = [glove_embeddings[word] for word in words if word in glove_embeddings]\n",
    "\n",
    "    if not word_vectors:\n",
    "        # If no words in the tweet have embeddings, return a zero vector\n",
    "        return np.zeros(embedding_dim)\n",
    "    \n",
    "    # Average the word vectors\n",
    "    avg_vector = np.mean(word_vectors, axis=0)\n",
    "    return avg_vector"
   ]
  },
  {
   "cell_type": "code",
   "execution_count": null,
   "metadata": {},
   "outputs": [
    {
     "name": "stdout",
     "output_type": "stream",
     "text": [
      "Feature matrix shape: (2500000, 20)\n",
      "Sample features: [[ 0.30075204  0.03078056 -0.33671506  0.59790264 -0.2940522   0.30887251\n",
      "   0.18902891 -0.34908383  0.01907641  0.21592869  0.25099927  0.26876923\n",
      "   0.54592424 -0.61302241  0.09055117  0.51168789  0.20999208 -0.10051028\n",
      "   0.58153037 -0.24113424]\n",
      " [ 0.29901142 -0.01452917 -0.23043686  0.46373904 -0.20266416  0.16274825\n",
      "   0.15461645 -0.37216849  0.07457324  0.130669    0.14910271  0.08946777\n",
      "   0.45444745 -0.4830026   0.04326336  0.46095983  0.26453349 -0.05143715\n",
      "   0.25681797 -0.00466864]\n",
      " [ 0.17069418  0.02189873 -0.06987763  0.39282254 -0.35960902  0.33947773\n",
      "   0.19983961 -0.32279671 -0.11036849  0.18927896  0.23833146  0.29834712\n",
      "   0.35724263 -0.50109079 -0.08810106  0.29771447  0.10619965 -0.18684458\n",
      "   0.00088793  0.05229465]\n",
      " [ 0.21511581 -0.36253114 -0.13034872  0.29990089  0.18971807  0.24370075\n",
      "  -0.30592113 -0.29622787  0.08150644  0.16852212  0.11948167  0.0265511\n",
      "   0.45875313 -0.4263422  -0.17688048  0.39696826  0.21411603 -0.12812918\n",
      "   0.27742577  0.23990102]\n",
      " [ 0.40281378  0.07329891 -0.10864215  0.35530027 -0.25094517  0.42348127\n",
      "   0.12423717 -0.2911061  -0.12528794  0.18362764  0.02259762  0.42540598\n",
      "   0.30801342 -0.37938073  0.25893913  0.31527188  0.16682754  0.02913643\n",
      "   0.32199911 -0.12454779]]\n",
      "Labels: [-1 -1  1  1  1]\n"
     ]
    }
   ],
   "source": [
    "embedding_dim = 20  # Based on your embedding vector dimension\n",
    "df[\"feature\"] = df[\"tweet\"].apply(lambda tweet: get_average_embedding(tweet, glove_embeddings, embedding_dim))\n",
    "df.head()\n",
    "\n",
    "df_test[\"feature\"] = df_test[\"tweet\"].apply(lambda tweet: get_average_embedding(tweet, glove_embeddings, embedding_dim))\n",
    "feature_matrix_test = np.vstack(df_test[\"feature\"].values)\n",
    "# Convert the list of arrays in \"feature\" to a feature matrix for ML algorithms\n",
    "feature_matrix = np.vstack(df[\"feature\"].values)\n",
    "labels = df[\"label\"].values\n",
    "\n",
    "# Check the shape of the feature matrix and a sample of data\n",
    "print(\"Feature matrix shape:\", feature_matrix.shape)  # Should be (number_of_tweets, embedding_dim)\n",
    "print(\"Sample features:\", feature_matrix[:5])\n",
    "print(\"Labels:\", labels[:5])"
   ]
  },
  {
   "cell_type": "code",
   "execution_count": null,
   "metadata": {},
   "outputs": [],
   "source": [
    "np.save(\"feature_matrix_glove\", feature_matrix)"
   ]
  },
  {
   "cell_type": "code",
   "execution_count": 5,
   "metadata": {},
   "outputs": [
    {
     "name": "stdout",
     "output_type": "stream",
     "text": [
      "Test set accuracy: 0.572408\n",
      "Test set F1 score: 0.5953653514217364\n"
     ]
    }
   ],
   "source": [
    "import numpy as np\n",
    "import pandas as pd\n",
    "from sklearn.model_selection import train_test_split\n",
    "from sklearn.linear_model import LinearRegression\n",
    "from sklearn.metrics import accuracy_score, f1_score\n",
    "from sklearn.preprocessing import StandardScaler\n",
    "\n",
    "# Load your feature matrix and labels from previous steps\n",
    "# feature_matrix: the matrix of averaged embeddings for each tweet\n",
    "# labels: the corresponding labels (+1 for positive, -1 for negative)\n",
    "\n",
    "# Split the data into training and test sets (e.g., 80% train, 20% test)\n",
    "#X_train, X_test, y_train, y_test = train_test_split(feature_matrix, labels, test_size=0.0, random_state=42)\n",
    "\n",
    "# Split the data into training and test sets\n",
    "X_train, X_test, y_train, y_test = train_test_split(\n",
    "    feature_matrix, labels, test_size=0.2, random_state=42\n",
    ")\n",
    "# Normalize the feature matrix\n",
    "\n",
    "scaler = StandardScaler()\n",
    "X_train = scaler.fit_transform(X_train)\n",
    "X_test = scaler.transform(X_test)\n",
    "\n",
    "# Initialize the Linear Regression model\n",
    "model = LinearRegression()\n",
    "# Train the model on the training data\n",
    "model.fit(X_train, y_train)\n",
    "\n",
    "# Predict on the test set\n",
    "y_pred = model.predict(X_test)\n",
    "\n",
    "# Convert predictions to binary labels (+1 or -1) by rounding to nearest integer\n",
    "y_pred_labels = np.where(y_pred >= 0, 1, -1)\n",
    "\n",
    " #Evaluate the model's performance using accuracy\n",
    "accuracy = accuracy_score(y_test, y_pred_labels)\n",
    "print(\"Test set accuracy:\", accuracy)\n",
    "\n",
    "# Evaluate the model's performance using F1 score\n",
    "f1 = f1_score(y_test, y_pred_labels)\n",
    "print(\"Test set F1 score:\", f1)\n"
   ]
  },
  {
   "cell_type": "code",
   "execution_count": null,
   "metadata": {},
   "outputs": [],
   "source": [
    "import numpy as np\n",
    "import pandas as pd\n",
    "from sklearn.model_selection import train_test_split\n",
    "from sklearn.svm import SVC\n",
    "from sklearn.metrics import accuracy_score, f1_score\n",
    "from sklearn.preprocessing import StandardScaler\n",
    "\n",
    "# Load your feature matrix and labels (replace with actual variables)\n",
    "# feature_matrix: averaged embeddings for each tweet\n",
    "# labels: corresponding labels (+1 for positive, -1 for negative)\n",
    "\n",
    "# Split the data into training and test sets\n",
    "X_train, X_test, y_train, y_test = train_test_split(\n",
    "    feature_matrix, labels, test_size=0.2, random_state=42\n",
    ")\n",
    "\n",
    "# Normalize the feature matrix\n",
    "scaler = StandardScaler()\n",
    "X_train = scaler.fit_transform(X_train)\n",
    "X_test = scaler.transform(X_test)\n",
    "\n",
    "# Initialize the SVM model with default parameters\n",
    "svm = SVC(random_state=42)\n",
    "\n",
    "# Train the SVM Classifier\n",
    "svm.fit(X_train, y_train)\n",
    "\n",
    "# Predict on the test set\n",
    "y_pred = svm.predict(X_test)\n",
    "\n",
    "# Evaluate the model's performance\n",
    "accuracy = accuracy_score(y_test, y_pred)\n",
    "f1 = f1_score(y_test, y_pred)\n",
    "\n",
    "print(\"Test set accuracy:\", accuracy)\n",
    "print(\"Test set F1 score:\", f1)\n"
   ]
  },
  {
   "cell_type": "markdown",
   "metadata": {},
   "source": [
    "## MLP with grid search"
   ]
  },
  {
   "cell_type": "code",
   "execution_count": null,
   "metadata": {},
   "outputs": [
    {
     "name": "stderr",
     "output_type": "stream",
     "text": [
      "/Users/paul/Library/Python/3.9/lib/python/site-packages/sklearn/neural_network/_multilayer_perceptron.py:697: UserWarning: Training interrupted by user.\n",
      "  warnings.warn(\"Training interrupted by user.\")\n"
     ]
    },
    {
     "name": "stdout",
     "output_type": "stream",
     "text": [
      "Test set accuracy: 0.615142\n",
      "Test set F1 score: 0.6571915678984414\n"
     ]
    }
   ],
   "source": [
    "import numpy as np\n",
    "import pandas as pd\n",
    "from sklearn.model_selection import train_test_split, GridSearchCV\n",
    "from sklearn.neural_network import MLPClassifier\n",
    "from sklearn.metrics import accuracy_score, f1_score\n",
    "from sklearn.preprocessing import StandardScaler\n",
    "\n",
    "# Load your feature matrix and labels (replace with actual variables)\n",
    "# feature_matrix: averaged embeddings for each tweet\n",
    "# labels: corresponding labels (+1 for positive, -1 for negative)\n",
    "\n",
    "# Split the data into training and test sets\n",
    "X_train, X_test, y_train, y_test = train_test_split(\n",
    "    feature_matrix, labels, test_size=0.2, random_state=42\n",
    ")\n",
    "\n",
    "# Normalize the feature matrix\n",
    "scaler = StandardScaler()\n",
    "X_train = scaler.fit_transform(X_train)\n",
    "X_test = scaler.transform(X_test)\n",
    "\n",
    "# Initialize the MLP Classifier model\n",
    "mlp = MLPClassifier(hidden_layer_sizes=(100,), activation='relu', solver='adam', \n",
    "              alpha=0.0001, learning_rate='constant', max_iter=200, tol=1e-4)\n",
    "\n",
    "# Define hyperparameter grid for optimization\n",
    "param_grid = {\n",
    "    'hidden_layer_sizes': [(50,), (100,), (50, 50), (100, 50)],  # Number of neurons per layer\n",
    "    'activation': ['relu'],  # Activation functions\n",
    "    'solver': ['sgd'],  # Optimization solvers\n",
    "    'alpha': [0.0001, 0.001, 0.01],  # L2 regularization term\n",
    "    'learning_rate': ['constant']  # Learning rate schedule\n",
    "}\n",
    "\n",
    "# Perform GridSearchCV for hyperparameter optimization\n",
    "grid_search = GridSearchCV(\n",
    "    estimator=mlp, param_grid=param_grid, \n",
    "    cv=5, scoring='f1', verbose=False, n_jobs=-1\n",
    ")\n",
    "\n",
    "# Train the MLP Classifier using GridSearch\n",
    "# grid_search.fit(X_train, y_train)\n",
    "\n",
    "mlp.fit(X_train, y_train)\n",
    "\n",
    "# Get the best model and parameters\n",
    "#best_mlp = grid_search.best_estimator_\n",
    "#print(\"Best hyperparameters:\", grid_search.best_params_)\n",
    "\n",
    "# Predict on the test set\n",
    "#y_pred = best_mlp.predict(X_test)\n",
    "y_pred = mlp.predict(X_test)\n",
    "# Evaluate the model's performance\n",
    "accuracy = accuracy_score(y_test, y_pred)\n",
    "f1 = f1_score(y_test, y_pred)\n",
    "\n",
    "print(\"Test set accuracy:\", accuracy)\n",
    "print(\"Test set F1 score:\", f1)\n"
   ]
  },
  {
   "cell_type": "markdown",
   "metadata": {},
   "source": [
    "## MLP without grid search"
   ]
  },
  {
   "cell_type": "code",
   "execution_count": 8,
   "metadata": {},
   "outputs": [
    {
     "name": "stderr",
     "output_type": "stream",
     "text": [
      "/Users/paul/Library/Python/3.9/lib/python/site-packages/sklearn/neural_network/_multilayer_perceptron.py:697: UserWarning: Training interrupted by user.\n",
      "  warnings.warn(\"Training interrupted by user.\")\n"
     ]
    },
    {
     "name": "stdout",
     "output_type": "stream",
     "text": [
      "Test set accuracy: 0.595908\n",
      "Test set F1 score: 0.6444517180334561\n"
     ]
    }
   ],
   "source": [
    "import numpy as np\n",
    "import pandas as pd\n",
    "from sklearn.model_selection import train_test_split\n",
    "from sklearn.neural_network import MLPClassifier\n",
    "from sklearn.metrics import accuracy_score, f1_score\n",
    "from sklearn.preprocessing import StandardScaler\n",
    "\n",
    "# Load your feature matrix and labels (replace with actual variables)\n",
    "# feature_matrix: averaged embeddings for each tweet\n",
    "# labels: corresponding labels (+1 for positive, -1 for negative)\n",
    "\n",
    "# Split the data into training and test sets\n",
    "X_train, X_test, y_train, y_test = train_test_split(\n",
    "    feature_matrix, labels, test_size=0.2, random_state=42\n",
    ")\n",
    "\n",
    "# Normalize the feature matrix\n",
    "scaler = StandardScaler()\n",
    "X_train = scaler.fit_transform(X_train)\n",
    "X_test = scaler.transform(X_test)\n",
    "\n",
    "# Initialize the MLP Classifier model with default parameters\n",
    "mlp = MLPClassifier(random_state=42)\n",
    "\n",
    "# Train the MLP Classifier\n",
    "mlp.fit(X_train, y_train)\n",
    "\n",
    "# Predict on the test set\n",
    "y_pred = mlp.predict(X_test)\n",
    "\n",
    "# Evaluate the model's performance\n",
    "accuracy = accuracy_score(y_test, y_pred)\n",
    "f1 = f1_score(y_test, y_pred)\n",
    "\n",
    "print(\"Test set accuracy:\", accuracy)\n",
    "print(\"Test set F1 score:\", f1)"
   ]
  },
  {
   "cell_type": "code",
   "execution_count": 14,
   "metadata": {},
   "outputs": [
    {
     "name": "stdout",
     "output_type": "stream",
     "text": [
      "Original feature matrix shape: (2500000, 20)\n",
      "Reduced feature matrix shape: (2500000, 20)\n",
      "Original labels shape: (2500000,)\n",
      "Reduced labels shape: (2500000,)\n"
     ]
    }
   ],
   "source": [
    "import numpy as np\n",
    "\n",
    "\n",
    "\n",
    "sample_size = 2500000\n",
    "selected_indices = np.random.choice(feature_matrix.shape[0], sample_size, replace=False)\n",
    "\n",
    "# Réduire feature_matrix et labels en fonction des indices sélectionnés\n",
    "reduced_feature_matrix = feature_matrix[selected_indices]\n",
    "reduced_labels = labels[selected_indices]\n",
    "\n",
    "# Afficher les formes des nouvelles matrices\n",
    "print(\"Original feature matrix shape:\", feature_matrix.shape)\n",
    "print(\"Reduced feature matrix shape:\", reduced_feature_matrix.shape)\n",
    "print(\"Original labels shape:\", labels.shape)\n",
    "print(\"Reduced labels shape:\", reduced_labels.shape)\n"
   ]
  },
  {
   "cell_type": "code",
   "execution_count": 11,
   "metadata": {},
   "outputs": [
    {
     "name": "stdout",
     "output_type": "stream",
     "text": [
      "Test set accuracy: 0.57\n",
      "Test set F1 score: 0.587173579109063\n"
     ]
    }
   ],
   "source": [
    "import numpy as np\n",
    "import pandas as pd\n",
    "from sklearn.model_selection import train_test_split\n",
    "from sklearn.linear_model import LinearRegression\n",
    "from sklearn.metrics import accuracy_score, f1_score\n",
    "from sklearn.preprocessing import StandardScaler\n",
    "\n",
    "# Load your feature matrix and labels from previous steps\n",
    "# feature_matrix: the matrix of averaged embeddings for each tweet\n",
    "# labels: the corresponding labels (+1 for positive, -1 for negative)\n",
    "\n",
    "# Split the data into training and test sets (e.g., 80% train, 20% test)\n",
    "#X_train, X_test, y_train, y_test = train_test_split(feature_matrix, labels, test_size=0.0, random_state=42)\n",
    "\n",
    "# Split the data into training and test sets\n",
    "X_train, X_test, y_train, y_test = train_test_split(\n",
    "    reduced_feature_matrix, reduced_labels, test_size=0.2, random_state=42\n",
    ")\n",
    "# Normalize the feature matrix\n",
    "\n",
    "scaler = StandardScaler()\n",
    "X_train = scaler.fit_transform(X_train)\n",
    "X_test = scaler.transform(X_test)\n",
    "\n",
    "# Initialize the Linear Regression model\n",
    "model = LinearRegression()\n",
    "\n",
    "# Train the model on the training data\n",
    "model.fit(X_train, y_train)\n",
    "\n",
    "# Predict on the test set\n",
    "y_pred = model.predict(X_test)\n",
    "\n",
    "# Convert predictions to binary labels (+1 or -1) by rounding to nearest integer\n",
    "y_pred_labels = np.where(y_pred >= 0, 1, -1)\n",
    "\n",
    " #Evaluate the model's performance using accuracy\n",
    "accuracy = accuracy_score(y_test, y_pred_labels)\n",
    "print(\"Test set accuracy:\", accuracy)\n",
    "\n",
    "# Evaluate the model's performance using F1 score\n",
    "f1 = f1_score(y_test, y_pred_labels)\n",
    "print(\"Test set F1 score:\", f1)\n"
   ]
  },
  {
   "cell_type": "code",
   "execution_count": 12,
   "metadata": {},
   "outputs": [
    {
     "name": "stdout",
     "output_type": "stream",
     "text": [
      "Test set accuracy: 0.6056\n",
      "Test set F1 score: 0.665422463522226\n"
     ]
    }
   ],
   "source": [
    "import numpy as np\n",
    "import pandas as pd\n",
    "from sklearn.model_selection import train_test_split\n",
    "from sklearn.svm import SVC\n",
    "from sklearn.metrics import accuracy_score, f1_score\n",
    "from sklearn.preprocessing import StandardScaler\n",
    "\n",
    "# Load your feature matrix and labels (replace with actual variables)\n",
    "# feature_matrix: averaged embeddings for each tweet\n",
    "# labels: corresponding labels (+1 for positive, -1 for negative)\n",
    "\n",
    "# Split the data into training and test sets\n",
    "X_train, X_test, y_train, y_test = train_test_split(\n",
    "    reduced_feature_matrix, reduced_labels, test_size=0.2, random_state=42\n",
    ")\n",
    "\n",
    "# Normalize the feature matrix\n",
    "scaler = StandardScaler()\n",
    "X_train = scaler.fit_transform(X_train)\n",
    "X_test = scaler.transform(X_test)\n",
    "\n",
    "# Initialize the SVM model with default parameters\n",
    "svm = SVC(random_state=42)\n",
    "\n",
    "# Train the SVM Classifier\n",
    "svm.fit(X_train, y_train)\n",
    "\n",
    "# Predict on the test set\n",
    "y_pred = svm.predict(X_test)\n",
    "\n",
    "# Evaluate the model's performance\n",
    "accuracy = accuracy_score(y_test, y_pred)\n",
    "f1 = f1_score(y_test, y_pred)\n",
    "\n",
    "print(\"Test set accuracy:\", accuracy)\n",
    "print(\"Test set F1 score:\", f1)\n"
   ]
  },
  {
   "cell_type": "code",
   "execution_count": 15,
   "metadata": {},
   "outputs": [
    {
     "name": "stdout",
     "output_type": "stream",
     "text": [
      "Test set accuracy: 0.57295\n",
      "Test set F1 score: 0.5947700138350385\n"
     ]
    }
   ],
   "source": [
    "import numpy as np\n",
    "import pandas as pd\n",
    "from sklearn.model_selection import train_test_split\n",
    "from sklearn.linear_model import LogisticRegression\n",
    "from sklearn.metrics import accuracy_score, f1_score\n",
    "from sklearn.preprocessing import StandardScaler\n",
    "\n",
    "# Load your feature matrix and labels (replace with actual variables)\n",
    "# feature_matrix: averaged embeddings for each tweet\n",
    "# labels: corresponding labels (+1 for positive, -1 for negative)\n",
    "\n",
    "# Split the data into training and test sets\n",
    "X_train, X_test, y_train, y_test = train_test_split(\n",
    "    reduced_feature_matrix, reduced_labels, test_size=0.2, random_state=42\n",
    ")\n",
    "\n",
    "# Normalize the feature matrix\n",
    "scaler = StandardScaler()\n",
    "X_train = scaler.fit_transform(X_train)\n",
    "X_test = scaler.transform(X_test)\n",
    "\n",
    "# Initialize the Logistic Regression model with default parameters\n",
    "log_reg = LogisticRegression(random_state=42)\n",
    "\n",
    "# Train the Logistic Regression Classifier\n",
    "log_reg.fit(X_train, y_train)\n",
    "\n",
    "# Predict on the test set\n",
    "y_pred = log_reg.predict(X_test)\n",
    "\n",
    "# Evaluate the model's performance\n",
    "accuracy = accuracy_score(y_test, y_pred)\n",
    "f1 = f1_score(y_test, y_pred)\n",
    "\n",
    "print(\"Test set accuracy:\", accuracy)\n",
    "print(\"Test set F1 score:\", f1)"
   ]
  },
  {
   "cell_type": "code",
   "execution_count": 27,
   "metadata": {},
   "outputs": [],
   "source": [
    "ids = np.arange(1, len(y_pred_labels) + 1)"
   ]
  },
  {
   "cell_type": "code",
   "execution_count": 29,
   "metadata": {},
   "outputs": [],
   "source": [
    "from helpers import create_csv_submission\n",
    "create_csv_submission(ids, y_pred_labels, \"submission_embed_transfo1.csv\")"
   ]
  },
  {
   "cell_type": "code",
   "execution_count": null,
   "metadata": {},
   "outputs": [],
   "source": []
  }
 ],
 "metadata": {
  "kernelspec": {
   "display_name": "Python 3",
   "language": "python",
   "name": "python3"
  },
  "language_info": {
   "codemirror_mode": {
    "name": "ipython",
    "version": 3
   },
   "file_extension": ".py",
   "mimetype": "text/x-python",
   "name": "python",
   "nbconvert_exporter": "python",
   "pygments_lexer": "ipython3",
   "version": "3.9.6"
  }
 },
 "nbformat": 4,
 "nbformat_minor": 2
}

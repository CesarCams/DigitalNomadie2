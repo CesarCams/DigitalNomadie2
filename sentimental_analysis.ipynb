{
 "cells": [
  {
   "cell_type": "markdown",
   "metadata": {},
   "source": [
    "### Sentimental analysis by twitter specific pre-trained model ###"
   ]
  },
  {
   "cell_type": "code",
   "execution_count": 2,
   "metadata": {},
   "outputs": [],
   "source": [
    "import pandas as pd\n",
    "\n",
    "data_path = \"data/twitter-datasets/\"\n",
    "test_path = f\"{data_path}test_data.txt\"\n",
    "\n",
    "\n",
    "with open(test_path, \"r\") as f:\n",
    "    test_tweets = [line.strip() for line in f]"
   ]
  },
  {
   "cell_type": "code",
   "execution_count": 7,
   "metadata": {},
   "outputs": [
    {
     "name": "stderr",
     "output_type": "stream",
     "text": [
      "100%|██████████| 10000/10000 [02:28<00:00, 67.42it/s]\n"
     ]
    }
   ],
   "source": [
    "from transformers import AutoTokenizer, AutoModelForSequenceClassification\n",
    "import torch\n",
    "import numpy as np\n",
    "from tqdm import tqdm\n",
    "# Load binary sentiment model\n",
    "model_name = \"distilbert-base-uncased-finetuned-sst-2-english\"\n",
    "tokenizer = AutoTokenizer.from_pretrained(model_name)\n",
    "model = AutoModelForSequenceClassification.from_pretrained(model_name)\n",
    "\n",
    "labels = []\n",
    "\n",
    "# Analyze sentiment\n",
    "for tweet in tqdm(test_tweets):\n",
    "    inputs = tokenizer(tweet, return_tensors=\"pt\", truncation=True, max_length=512)\n",
    "    outputs = model(**inputs)\n",
    "    probs = torch.nn.functional.softmax(outputs.logits, dim=-1)\n",
    "    label = probs.argmax().item() if probs.argmax().item() == 1 else -1\n",
    "    labels.append(label)\n",
    "    sentiment = \"positive\" if probs.argmax() == 1 else \"negative\"\n",
    "\n",
    "ids = np.arange(1, len(labels) + 1)"
   ]
  },
  {
   "cell_type": "code",
   "execution_count": 8,
   "metadata": {},
   "outputs": [],
   "source": [
    "from helpers import create_csv_submission\n",
    "\n",
    "create_csv_submission(ids, labels, \"data/submission_sentimental_analysis_distilbert.csv\")\n",
    "\n"
   ]
  },
  {
   "cell_type": "code",
   "execution_count": 12,
   "metadata": {},
   "outputs": [
    {
     "name": "stderr",
     "output_type": "stream",
     "text": [
      "100%|██████████| 10000/10000 [05:05<00:00, 32.74it/s]\n"
     ]
    }
   ],
   "source": [
    "from transformers import AutoTokenizer, AutoModelForSequenceClassification\n",
    "import torch\n",
    "import numpy as np\n",
    "from tqdm import tqdm\n",
    "# Load binary sentiment model\n",
    "model_name = \"cardiffnlp/twitter-roberta-base-sentiment\"\n",
    "tokenizer = AutoTokenizer.from_pretrained(model_name)\n",
    "model = AutoModelForSequenceClassification.from_pretrained(model_name)\n",
    "\n",
    "labels = []\n",
    "\n",
    "# Analyze sentiment\n",
    "for tweet in tqdm(test_tweets):\n",
    "    inputs = tokenizer(tweet, return_tensors=\"pt\", truncation=True, max_length=512)\n",
    "    outputs = model(**inputs)\n",
    "    probs = torch.nn.functional.softmax(outputs.logits, dim=-1)\n",
    "    negative_prob, neutral_prob, positive_prob = probs[0].tolist()\n",
    "    if positive_prob > negative_prob:\n",
    "        label = 1  # Positive\n",
    "    else:\n",
    "        label = -1  # Negative\n",
    "    labels.append(label)\n",
    "\n",
    "ids = np.arange(1, len(labels) + 1)"
   ]
  },
  {
   "cell_type": "code",
   "execution_count": 13,
   "metadata": {},
   "outputs": [],
   "source": [
    "from helpers import create_csv_submission\n",
    "\n",
    "create_csv_submission(ids, labels, \"data/submission_sentimental_analysis_twitter_roberta.csv\")\n",
    "\n"
   ]
  },
  {
   "cell_type": "code",
   "execution_count": null,
   "metadata": {},
   "outputs": [],
   "source": []
  }
 ],
 "metadata": {
  "kernelspec": {
   "display_name": "base",
   "language": "python",
   "name": "python3"
  },
  "language_info": {
   "codemirror_mode": {
    "name": "ipython",
    "version": 3
   },
   "file_extension": ".py",
   "mimetype": "text/x-python",
   "name": "python",
   "nbconvert_exporter": "python",
   "pygments_lexer": "ipython3",
   "version": "3.12.7"
  }
 },
 "nbformat": 4,
 "nbformat_minor": 2
}
